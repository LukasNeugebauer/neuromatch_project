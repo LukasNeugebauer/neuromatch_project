{
 "cells": [
  {
   "cell_type": "code",
   "execution_count": 7,
   "metadata": {},
   "outputs": [],
   "source": [
    "import numpy as np\n",
    "import matplotlib.pyplot as plt"
   ]
  },
  {
   "cell_type": "code",
   "execution_count": 8,
   "metadata": {},
   "outputs": [],
   "source": [
    "def halfExp_smooth(x):\n",
    "    thresh=0.05 \n",
    "    slope=30                                                             \n",
    "\n",
    "    idx_0 = x<0\n",
    "    idx_1 = x>0                                                            \n",
    "\n",
    "    y = np.zeros(x.size)\n",
    "    y[idx_0] = 0;                                                           \n",
    "    y[idx_1] = x[idx_1] / (1+np.exp(-slope*(x[idx_1]-thresh)))       \n",
    "    return y"
   ]
  },
  {
   "cell_type": "code",
   "execution_count": 16,
   "metadata": {},
   "outputs": [],
   "source": [
    "x = np.random.randn(100)"
   ]
  },
  {
   "cell_type": "code",
   "execution_count": 17,
   "metadata": {},
   "outputs": [],
   "source": [
    "y = halfExp_smooth(x)"
   ]
  },
  {
   "cell_type": "code",
   "execution_count": 48,
   "metadata": {},
   "outputs": [
    {
     "data": {
      "text/plain": [
       "[<matplotlib.lines.Line2D at 0x7f65ce451650>]"
      ]
     },
     "execution_count": 48,
     "metadata": {},
     "output_type": "execute_result"
    },
    {
     "data": {
      "image/png": "[encoded data removed]",
      "text/plain": [
       "<Figure size 432x288 with 1 Axes>"
      ]
     },
     "metadata": {
      "needs_background": "light"
     },
     "output_type": "display_data"
    }
   ],
   "source": [
    "plt.plot(x,y, 'k.')"
   ]
  },
  {
   "cell_type": "code",
   "execution_count": 40,
   "metadata": {},
   "outputs": [],
   "source": [
    " def halfExp(base, n=1):\n",
    "    x = np.array([np.max([_x, 0]) for _x in base])\n",
    "    x = x ** n                                                   \n",
    "    return y"
   ]
  },
  {
   "cell_type": "code",
   "execution_count": 39,
   "metadata": {},
   "outputs": [
    {
     "data": {
      "text/plain": [
       "array([0.        , 1.45832826, 1.53817537, 1.08935313, 0.        ,\n",
       "       0.        , 0.        , 0.        , 1.05137071, 0.        ,\n",
       "       0.        , 1.49033739, 0.        , 2.00112793, 0.        ,\n",
       "       1.43730048, 0.31835963, 0.        , 0.44923613, 0.58620935,\n",
       "       0.        , 0.62527658, 1.41521583, 0.71522245, 0.        ,\n",
       "       0.8645914 , 1.87183805, 0.        , 0.        , 0.01035335,\n",
       "       0.16837509, 0.        , 0.43810277, 0.16990337, 0.49984117,\n",
       "       1.2509031 , 0.24752552, 0.13387552, 0.        , 1.07338079,\n",
       "       0.        , 1.98873196, 0.        , 0.        , 0.        ,\n",
       "       0.        , 0.        , 0.        , 0.        , 0.        ,\n",
       "       0.06253043, 0.31641332, 0.        , 0.        , 0.14398829,\n",
       "       0.        , 0.        , 0.        , 0.56894456, 1.29959943,\n",
       "       0.        , 0.        , 0.        , 0.61963149, 0.00577835,\n",
       "       0.        , 0.        , 0.06415784, 0.        , 0.        ,\n",
       "       0.        , 0.95847122, 0.        , 0.45042096, 0.        ,\n",
       "       0.91244726, 0.12424497, 0.        , 0.22339032, 0.63859371,\n",
       "       0.        , 0.        , 0.93808477, 0.        , 1.16980246,\n",
       "       0.        , 0.        , 0.        , 0.77692453, 0.        ,\n",
       "       0.        , 1.13845943, 0.16663808, 0.        , 0.07733581,\n",
       "       0.        , 0.14872092, 0.59352977, 0.68258243, 1.48431521])"
      ]
     },
     "execution_count": 39,
     "metadata": {},
     "output_type": "execute_result"
    }
   ],
   "source": [
    "np.array([np.max([_x,0]) for _x in x])"
   ]
  },
  {
   "cell_type": "code",
   "execution_count": 38,
   "metadata": {},
   "outputs": [
    {
     "data": {
      "text/plain": [
       "array([-0.58184213,  1.45832826,  1.53817537,  1.08935313, -0.83991279,\n",
       "       -1.86182654, -0.10975251, -1.91405934,  1.05137071, -0.88219675,\n",
       "       -0.94677808,  1.49033739, -0.46288569,  2.00112793, -2.53829918,\n",
       "        1.43730048,  0.31835963, -0.08921963,  0.44923613,  0.58620935,\n",
       "       -0.78346676,  0.62527658,  1.41521583,  0.71522245, -0.84967026,\n",
       "        0.8645914 ,  1.87183805, -1.14705978, -0.45728949,  0.01035335,\n",
       "        0.16837509, -2.04992745,  0.43810277,  0.16990337,  0.49984117,\n",
       "        1.2509031 ,  0.24752552,  0.13387552, -0.48737887,  1.07338079,\n",
       "       -0.09813427,  1.98873196, -0.37538481, -0.17359064, -0.16273994,\n",
       "       -0.74936787, -0.56114575, -0.09686731, -0.69221442, -0.79780732,\n",
       "        0.06253043,  0.31641332, -0.29236257, -0.03725823,  0.14398829,\n",
       "       -1.2414836 , -0.51341687, -0.21693216,  0.56894456,  1.29959943,\n",
       "       -0.22620979, -0.32100336, -0.13550244,  0.61963149,  0.00577835,\n",
       "       -0.68393906, -0.82075238,  0.06415784, -0.5723503 , -1.06659216,\n",
       "       -0.55293385,  0.95847122, -1.00319934,  0.45042096, -0.58094771,\n",
       "        0.91244726,  0.12424497, -0.47028941,  0.22339032,  0.63859371,\n",
       "       -0.20728241, -1.01002418,  0.93808477, -0.61329737,  1.16980246,\n",
       "       -1.45450734, -2.46973091, -0.21305865,  0.77692453, -0.34180145,\n",
       "       -1.07934542,  1.13845943,  0.16663808, -0.15536689,  0.07733581,\n",
       "       -1.57026873,  0.14872092,  0.59352977,  0.68258243,  1.48431521])"
      ]
     },
     "execution_count": 38,
     "metadata": {},
     "output_type": "execute_result"
    }
   ],
   "source": [
    "x"
   ]
  },
  {
   "cell_type": "code",
   "execution_count": null,
   "metadata": {},
   "outputs": [],
   "source": []
  }
 ],
 "metadata": {
  "kernelspec": {
   "display_name": "Python [conda env:nma]",
   "language": "python",
   "name": "conda-env-nma-py"
  },
  "language_info": {
   "codemirror_mode": {
    "name": "ipython",
    "version": 3
   },
   "file_extension": ".py",
   "mimetype": "text/x-python",
   "name": "python",
   "nbconvert_exporter": "python",
   "pygments_lexer": "ipython3",
   "version": "3.7.6"
  }
 },
 "nbformat": 4,
 "nbformat_minor": 4
}
