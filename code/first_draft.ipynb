{
 "cells": [
  {
   "cell_type": "code",
   "execution_count": 1,
   "metadata": {},
   "outputs": [],
   "source": [
    "import numpy as np"
   ]
  },
  {
   "cell_type": "code",
   "execution_count": null,
   "metadata": {},
   "outputs": [],
   "source": [
    "class SensoryNeuron:\n",
    "    \n",
    "    def __init__(\n",
    "        self,\n",
    "        eye,\n",
    "        orientation,\n",
    "        alpha,\n",
    "        sigma,\n",
    "        n,\n",
    "        weight_opponency,\n",
    "        weight_attention,\n",
    "        weight_adaptation,\n",
    "        init_activity=None\n",
    "    ):\n",
    "        self.eye = eye\n",
    "        self.orientation = orientation\n",
    "        self.alpha = alpha\n",
    "        self.sigma = sigma\n",
    "        self.n = n\n",
    "        self.weight_opponency = weight_opponency\n",
    "        self.weight_attention = weight_attention\n",
    "        self.weight_adaptation = weight_adaptation\n",
    "        if init_activity is None:\n",
    "            self.mean_response = np.random.rand()\n",
    "        else:\n",
    "            self.mean_response = init_activity\n",
    "        \n",
    "    def \n",
    "        \n",
    "    def excitatory_drive(\n",
    "        self,\n",
    "        sensory_input\n",
    "    ):\n",
    "        pass\n",
    "    \n",
    "    def supressive_drive(\n",
    "        self\n",
    "    ):\n",
    "        pass\n",
    "    \n",
    "    def change_habituation(\n",
    "        self\n",
    "    ):\n",
    "        pass"
   ]
  },
  {
   "cell_type": "code",
   "execution_count": null,
   "metadata": {},
   "outputs": [],
   "source": [
    "class AttentionNeuron:\n",
    "    def __init__(\n",
    "        self,\n",
    "        \n",
    "    ):\n",
    "        pass"
   ]
  },
  {
   "cell_type": "code",
   "execution_count": 9,
   "metadata": {},
   "outputs": [
    {
     "data": {
      "text/plain": [
       "0"
      ]
     },
     "execution_count": 9,
     "metadata": {},
     "output_type": "execute_result"
    }
   ],
   "source": [
    "import os"
   ]
  },
  {
   "cell_type": "code",
   "execution_count": null,
   "metadata": {},
   "outputs": [],
   "source": [
    "sensory_layer = [SensoryNeuron('right', 1), SensoryNeuron('...')]\n",
    "attention_layer = [...]\n",
    "\n",
    "#define input\n",
    "condition = 'switch_stimuli'\n",
    "stimulus_input = get_input(condition)\n",
    "\n",
    "def get_input(condition, n_trials):\n",
    "    if condition == 'switch_stimuli':\n",
    "        return np.array([0,1] * (n_trials // 2))\n",
    "    else:\n",
    "        raise \n",
    "        \n",
    "#init_firing_rate\n",
    "class Snapshot:\n",
    "    def __init__(self, layers):\n",
    "        ...\n",
    "def extract_results(snapshots):\n",
    "    pass\n",
    "\n",
    "snaps = []\n",
    "t_steps = 10000\n",
    "t_delta = .01\n",
    "for i in range(t_steps):\n",
    "    current_time = t_delta * i\n",
    "    c_input = stimulus_input[i]\n",
    "    snap.append(Snapshot(sensory_layer, attention_Layer, opponency_layer))\n",
    "    sensory_layer.update_weights(c_input, snap[-1])\n",
    "    attention_layer.update_weights(snap[-1])\n",
    "    opponency_layer.update_weights(snap[-1])\n",
    "    \n",
    "results = extract_results(snap)"
   ]
  }
 ],
 "metadata": {
  "kernelspec": {
   "display_name": "Python 3",
   "language": "python",
   "name": "python3"
  },
  "language_info": {
   "codemirror_mode": {
    "name": "ipython",
    "version": 3
   },
   "file_extension": ".py",
   "mimetype": "text/x-python",
   "name": "python",
   "nbconvert_exporter": "python",
   "pygments_lexer": "ipython3",
   "version": "3.7.6"
  }
 },
 "nbformat": 4,
 "nbformat_minor": 4
}
